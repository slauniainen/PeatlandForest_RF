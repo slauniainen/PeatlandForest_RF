{
 "cells": [
  {
   "cell_type": "markdown",
   "id": "834e9a56",
   "metadata": {},
   "source": [
    "### Economy of negative climate impacts of drained peatland restoration\n",
    "\n",
    "Samuli Launiainen & Anssi Ahtikoski Oct, 2025.\n",
    "\n",
    "Scenario comparisons\n",
    "\n",
    "1) Read RF calc outputs from files\n",
    "\n",
    "2) Plot scenario comparisons for C dynamics\n",
    "\n",
    "3) Plot scenario comparisons for RF's\n",
    "\n",
    "\n"
   ]
  },
  {
   "cell_type": "code",
   "execution_count": 2,
   "id": "f1fe5938",
   "metadata": {},
   "outputs": [],
   "source": [
    "import numpy as np\n",
    "import matplotlib.pyplot as plt\n",
    "import pandas as pd\n",
    "import os\n",
    "\n",
    "# module main keeps track on C stocks and GHG fluxes between system components and the atmosphere\n",
    "# calls functions from module radiative_forcing to compute RF's\n",
    "\n",
    "#from main import wood_pools, soilCO2\n",
    "\n",
    "# force iPython re-import modules at each call\n",
    "%load_ext autoreload\n",
    "%autoreload 2\n",
    "\n",
    "EPS = 1e-6\n",
    "\n",
    "folder = r'Data/ES'\n",
    "#folder = r'Data/PS'\n",
    "\n",
    "stype = 'Mtkg'\n",
    "sheets = ['FNR', 'FNR_WT_rise', 'Rest_RME', 'Rest_ROL', 'Rest_RSM']\n"
   ]
  },
  {
   "cell_type": "markdown",
   "id": "ae7d8490",
   "metadata": {},
   "source": [
    "### Run pipeline"
   ]
  },
  {
   "cell_type": "code",
   "execution_count": 9,
   "id": "1ec45b45",
   "metadata": {},
   "outputs": [],
   "source": [
    "# simulations in 'folder'\n",
    "files = [name for name in os.listdir(folder) if '.xlsx' in name]\n",
    "M = len(files)\n",
    "\n",
    "# select sitetype\n",
    "stype = 'Mtkg'\n",
    "\n",
    "aa = [name for name in files if stype in name]\n",
    "\n",
    "scens = []\n",
    "scennames = []\n",
    "for sim in aa:\n",
    "    f = os.path.join(folder, sim)\n",
    "    \n",
    "    for s in sheets[0:2]:\n",
    "        tmp = pd.read_excel(f, sheet_name=s)\n",
    "        scens.append(tmp)\n",
    "        lab = s + ' ' + f.split('_')[-1].split('.')[0]\n",
    "        scennames.append(lab)\n",
    "\n",
    "# restoration scenarios are same for all as initial state is same. So take them only from last sim\n",
    "for s in sheets[2:]:\n",
    "    tmp = pd.read_excel(f, sheet_name=s)\n",
    "    scens.append(tmp)\n",
    "    scennames.append(s)\n",
    "\n",
    "res = dict(zip(scennames, scens))\n",
    "\n",
    "# for c in ['C_tree', 'C_resid', 'C_WP_short', 'C_WP_long', 'C_soil', 'F_tree', 'F_resid', 'F_soil', 'F_WP_short', 'F_WP_long', 'F_CH4', 'F_N2O']:\n",
    "#     plt.figure()\n",
    "#     plt.plot(f0[c], 'r.-', label=ftype)\n",
    "#     plt.plot(f1[c], 'g.-', label=rtype[0])\n",
    "#     plt.plot(f2[c], 'b.-', label=rtype[1])\n",
    "#     plt.plot(f3[c], 'k.-', label=rtype[2])   \n",
    "#     plt.legend()\n",
    "#     plt.title(c)"
   ]
  },
  {
   "cell_type": "code",
   "execution_count": 17,
   "id": "1bca08ca",
   "metadata": {},
   "outputs": [
    {
     "name": "stdout",
     "output_type": "stream",
     "text": [
      "FNR suositusten mukaan C_tot         -7472.403430\n",
      "C_tree         5546.838202\n",
      "C_resid        1017.637346\n",
      "C_WP_short      411.854265\n",
      "C_WP_long      1187.476403\n",
      "C_soil       -15636.209646\n",
      "dtype: float64\n",
      "FNR_WT_rise suositusten mukaan C_tot         -337.029371\n",
      "C_tree        5546.838202\n",
      "C_resid       1017.637346\n",
      "C_WP_short     411.854265\n",
      "C_WP_long     1187.476403\n",
      "C_soil       -8500.835586\n",
      "dtype: float64\n",
      "FNR RF opt4% C_tot         -5602.889316\n",
      "C_tree         5789.959733\n",
      "C_resid        1304.765145\n",
      "C_WP_short      488.925366\n",
      "C_WP_long      1298.330877\n",
      "C_soil       -14484.870437\n",
      "dtype: float64\n",
      "FNR_WT_rise RF opt4% C_tot          773.291042\n",
      "C_tree        5789.959733\n",
      "C_resid       1304.765145\n",
      "C_WP_short     488.925366\n",
      "C_WP_long     1298.330877\n",
      "C_soil       -8108.690080\n",
      "dtype: float64\n",
      "FNR CCF opt4% C_tot        -10419.697955\n",
      "C_tree         4263.176800\n",
      "C_resid         932.294356\n",
      "C_WP_short      407.392112\n",
      "C_WP_long      1043.517634\n",
      "C_soil       -17066.078857\n",
      "dtype: float64\n",
      "FNR_WT_rise CCF opt4% C_tot        -2341.467359\n",
      "C_tree        4263.176800\n",
      "C_resid        932.294356\n",
      "C_WP_short     407.392112\n",
      "C_WP_long     1043.517634\n",
      "C_soil       -8987.848261\n",
      "dtype: float64\n",
      "Rest_RME C_tot         15915.195967\n",
      "C_tree            0.000000\n",
      "C_resid           0.000000\n",
      "C_WP_short       56.931226\n",
      "C_WP_long       206.264741\n",
      "C_soil        15652.000000\n",
      "dtype: float64\n",
      "Rest_RSM C_tot         25048.01\n",
      "C_tree        11352.51\n",
      "C_resid           0.00\n",
      "C_WP_short        0.00\n",
      "C_WP_long         0.00\n",
      "C_soil        13695.50\n",
      "dtype: float64\n"
     ]
    },
    {
     "data": {
      "text/plain": [
       "<matplotlib.legend.Legend at 0x163b52a65b0>"
      ]
     },
     "execution_count": 17,
     "metadata": {},
     "output_type": "execute_result"
    }
   ],
   "source": [
    "%matplotlib qt\n",
    "\n",
    "spec = {'FNR suositusten mukaan': ['r','-'],'FNR_WT_rise suositusten mukaan': ['r', '--'],\n",
    "        'FNR RF opt4%': ['g', '-'], 'FNR_WT_rise RF opt4%': ['g', '--'], \n",
    "        'FNR CCF opt4%': ['b','-'], 'FNR_WT_rise CCF opt4%': ['b', '--'],\n",
    "        'Rest_RME': ['c',':'], 'Rest_RSM': ['m',':']\n",
    "        }\n",
    "\n",
    "\n",
    "fig, ax = plt.subplots(2,1, figsize=(10,10))\n",
    "fig2, ax2 = plt.subplots(2,2, figsize=(10,10))\n",
    "fig3, ax3 = plt.subplots(2,1, figsize=(10,10))\n",
    "for s in spec.keys():\n",
    "    tmp = res[s]\n",
    "    tmp['C_tot'] = tmp[['C_tree', 'C_resid', 'C_WP_short', 'C_WP_long', 'C_soil']].sum(axis=1) \n",
    "    tmp['F_co2'] = tmp[['F_tree', 'F_resid', 'F_soil', 'F_WP_short', 'F_WP_long']].sum(axis=1) \n",
    "    tmp['RF_abo'] = tmp[['RF_tree', 'RF_resid', 'RF_WP_short', 'RF_WP_long']].sum(axis=1)\n",
    "    tmp['C_abo'] = tmp[['C_tree', 'C_resid', 'C_WP_short', 'C_WP_long']].sum(axis=1)\n",
    "\n",
    "    print(s, tmp[['C_tot', 'C_tree', 'C_resid', 'C_WP_short', 'C_WP_long', 'C_soil']].mean(axis=0) )\n",
    "    #ax[0,0].plot(tmp['F_co2'], '-', label=s); ax[0,0].set_title('Fco2')\n",
    "    # if 'Rest' in s:\n",
    "    #     ls = ':'\n",
    "    # elif 'CCF' in s:\n",
    "    #     ls = '--' \n",
    "    # else:\n",
    "    #     ls = '-'\n",
    "    col = spec[s][0]\n",
    "    ls = spec[s][1]\n",
    "    ax[0].plot(tmp['RF_tot'], linestyle = ls, color=col, label=s, alpha=0.6); ax[0].set_title('RF tot')\n",
    "    ax[1].plot(tmp['C_tot'], linestyle = ls, color=col, label=s, alpha=0.6); ax[1].set_title('C tot [g C m-2]')\n",
    "\n",
    "    ax2[0,0].plot(tmp['C_tree'], linestyle = ls, color=col, label=s, alpha=0.6); ax2[0,0].set_title('C tree [g C m-2]')\n",
    "    ax2[0,1].plot(tmp['C_resid'], linestyle = ls, color=col, label=s, alpha=0.6); ax2[0,1].set_title('C resid [g C m-2]')\n",
    "    ax2[1,0].plot(tmp['C_soil'], linestyle = ls, color=col, label=s, alpha=0.6); ax2[1,0].set_title('C soil [g C m-2]')\n",
    "\n",
    "    yy = tmp[['C_WP_short', 'C_WP_long']].sum(axis=1)\n",
    "    ax2[1,1].plot(yy, linestyle = ls, color=col, label=s, alpha=0.6); ax2[1,1].set_title('C WP [g C m-2]')\n",
    "    del yy\n",
    "\n",
    "    ax3[0].plot(tmp['RF_abo'], linestyle = ls, color=col, label=s, alpha=0.6); ax3[0].set_title('RF tree + residue + WP (CO2 only)')\n",
    "    ax3[1].plot(tmp['C_abo'], linestyle = ls, color=col, label=s, alpha=0.6); ax3[1].set_title('C tree + residue + WP [g C m-2]')\n",
    "#         ax[1,0].plot(tmp['F_CH4'], '-', label=s); ax[1,0].set_title('Fch4')\n",
    "#         ax[1,1].plot(tmp['RF_CH4'], '-', label=s); ax[1,1].set_title('RF ch4')\n",
    "#         ax[2,0].plot(tmp['F_N2O'], '-', label=s); ax[2,0].set_title('Fn2o')\n",
    "#         ax[2,1].plot(tmp['RF_N2O'], '-', label=s); ax[2,1].set_title('RF n2o')\n",
    "    \n",
    "ax[0].legend(fontsize=8)\n",
    "ax2[1,0].legend(fontsize=8)\n",
    "ax3[0].legend(fontsize=8)"
   ]
  },
  {
   "cell_type": "code",
   "execution_count": null,
   "id": "1774fdaf",
   "metadata": {},
   "outputs": [],
   "source": [
    "9470 + 5850\n"
   ]
  },
  {
   "cell_type": "code",
   "execution_count": 15,
   "id": "eb5c8a32",
   "metadata": {},
   "outputs": [
    {
     "data": {
      "text/plain": [
       "Index(['year', 'Age', 'Vol', 'BA', 'C_tree', 'C_resid', 'C_WP_short',\n",
       "       'C_WP_long', 'C_soil', 'F_tree', 'F_resid', 'F_soil', 'F_WP_short',\n",
       "       'F_WP_long', 'F_CH4', 'F_N2O', 'RF_tot', 'RF_totCO2', 'RF_tree',\n",
       "       'RF_resid', 'RF_soil', 'RF_WP_short', 'RF_WP_long', 'RF_CH4', 'RF_N2O',\n",
       "       'C_tot', 'F_co2'],\n",
       "      dtype='object')"
      ]
     },
     "execution_count": 15,
     "metadata": {},
     "output_type": "execute_result"
    }
   ],
   "source": [
    "tmp.columns"
   ]
  },
  {
   "cell_type": "code",
   "execution_count": 8,
   "id": "57028a4a",
   "metadata": {},
   "outputs": [
    {
     "data": {
      "text/plain": [
       "['FNR CCF opt2%',\n",
       " 'FNR_WT_rise CCF opt2%',\n",
       " 'FNR CCF opt4%',\n",
       " 'FNR_WT_rise CCF opt4%',\n",
       " 'FNR RF opt2%',\n",
       " 'FNR_WT_rise RF opt2%',\n",
       " 'FNR RF opt4%',\n",
       " 'FNR_WT_rise RF opt4%',\n",
       " 'FNR suositusten mukaan',\n",
       " 'FNR_WT_rise suositusten mukaan',\n",
       " 'Rest_RME',\n",
       " 'Rest_ROL',\n",
       " 'Rest_RSM']"
      ]
     },
     "execution_count": 8,
     "metadata": {},
     "output_type": "execute_result"
    }
   ],
   "source": [
    "scennames\n"
   ]
  }
 ],
 "metadata": {
  "kernelspec": {
   "display_name": "Python 3",
   "language": "python",
   "name": "python3"
  },
  "language_info": {
   "codemirror_mode": {
    "name": "ipython",
    "version": 3
   },
   "file_extension": ".py",
   "mimetype": "text/x-python",
   "name": "python",
   "nbconvert_exporter": "python",
   "pygments_lexer": "ipython3",
   "version": "3.8.16"
  }
 },
 "nbformat": 4,
 "nbformat_minor": 5
}
