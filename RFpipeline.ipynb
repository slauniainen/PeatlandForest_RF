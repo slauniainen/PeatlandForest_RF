{
 "cells": [
  {
   "cell_type": "markdown",
   "id": "834e9a56",
   "metadata": {},
   "source": [
    "### Economy of negative climate impacts of drained peatland restoration\n",
    "\n",
    "Samuli Launiainen & Anssi Ahtikoski Oct, 2025.\n",
    "\n",
    "Pipeline to calculate GHG budgets and atmospheric radiative forcing of alternative drained peatland forest management chains and restoration scenarios. \n",
    "\n",
    "Steps:\n",
    "\n",
    "1) Read Motti-outputs (metsikkötaulu) for a given site and management chain, compute NPP and fluxes to residue and wood product pools\n",
    "\n",
    "2) Estimate pool C dynamics and compute CO2, CH4 and N2O fluxes between system components and the atmosphere\n",
    "\n",
    "3) Calculate changes in atmospheric GHG stocks and resulting radiative forcings (RF's)\n",
    "\n",
    "4) Save results to Excel-files, with sheets corresponding to scenarios\n",
    "\n",
    "Todo: \n",
    "\n",
    "- correct OptiMotti CCF biomass error\n",
    "- add albedo RF (relative to open peatland)\n",
    "\n",
    "To move on from Ambio-paper:\n",
    "\n",
    "- compute forestry CH4 and N2O soil emissions using Minkkinen et al. WT-dependent model  \n",
    "- for added realism, use SpaFHy-Peat to infer location-specific Vol - WT -responses that can account for different ditch spacing, ditch dept and peat type - and realization of past 30 year weather. This is needed for HIKET - ask J-P Nousu!\n"
   ]
  },
  {
   "cell_type": "code",
   "execution_count": 9,
   "id": "f1fe5938",
   "metadata": {},
   "outputs": [
    {
     "name": "stdout",
     "output_type": "stream",
     "text": [
      "The autoreload extension is already loaded. To reload it, use:\n",
      "  %reload_ext autoreload\n"
     ]
    }
   ],
   "source": [
    "import numpy as np\n",
    "import matplotlib.pyplot as plt\n",
    "import pandas as pd\n",
    "import os\n",
    "\n",
    "# module main keeps track on C stocks and GHG fluxes between system components and the atmosphere\n",
    "# calls functions from module radiative_forcing to compute RF's\n",
    "\n",
    "from main import compute_stocks_fluxes, compute_RFs\n",
    "\n",
    "# module motti_tools does massaging of Motti inputs\n",
    "from motti_tools import massage_LukeMotti, massage_OptiMotti\n",
    "\n",
    "#from main import wood_pools, soilCO2\n",
    "\n",
    "# force iPython re-import modules at each call\n",
    "%load_ext autoreload\n",
    "%autoreload 2\n",
    "\n",
    "EPS = 1e-6\n",
    "\n",
    "#folder = r'Data/ES'\n",
    "folder = r'Data/PS'"
   ]
  },
  {
   "cell_type": "markdown",
   "id": "ae7d8490",
   "metadata": {},
   "source": [
    "### Run pipeline"
   ]
  },
  {
   "cell_type": "code",
   "execution_count": 13,
   "id": "1ec45b45",
   "metadata": {},
   "outputs": [
    {
     "name": "stderr",
     "output_type": "stream",
     "text": [
      "c:\\Repositories\\PeatlandForest_RF\\motti_tools.py:294: SettingWithCopyWarning: \n",
      "A value is trying to be set on a copy of a slice from a DataFrame\n",
      "\n",
      "See the caveats in the documentation: https://pandas.pydata.org/pandas-docs/stable/user_guide/indexing.html#returning-a-view-versus-a-copy\n",
      "  raw['year'].iloc[k] += 1\n",
      "c:\\Repositories\\PeatlandForest_RF\\motti_tools.py:295: SettingWithCopyWarning: \n",
      "A value is trying to be set on a copy of a slice from a DataFrame\n",
      "\n",
      "See the caveats in the documentation: https://pandas.pydata.org/pandas-docs/stable/user_guide/indexing.html#returning-a-view-versus-a-copy\n",
      "  raw['DomAge'].iloc[k] += 1\n",
      "c:\\Repositories\\PeatlandForest_RF\\motti_tools.py:59: FutureWarning: iteritems is deprecated and will be removed in a future version. Use .items instead.\n",
      "  for colname, col in df.iteritems():\n"
     ]
    },
    {
     "name": "stdout",
     "output_type": "stream",
     "text": [
      "restoring to open!\n"
     ]
    },
    {
     "name": "stderr",
     "output_type": "stream",
     "text": [
      "c:\\Repositories\\PeatlandForest_RF\\motti_tools.py:294: SettingWithCopyWarning: \n",
      "A value is trying to be set on a copy of a slice from a DataFrame\n",
      "\n",
      "See the caveats in the documentation: https://pandas.pydata.org/pandas-docs/stable/user_guide/indexing.html#returning-a-view-versus-a-copy\n",
      "  raw['year'].iloc[k] += 1\n",
      "c:\\Repositories\\PeatlandForest_RF\\motti_tools.py:295: SettingWithCopyWarning: \n",
      "A value is trying to be set on a copy of a slice from a DataFrame\n",
      "\n",
      "See the caveats in the documentation: https://pandas.pydata.org/pandas-docs/stable/user_guide/indexing.html#returning-a-view-versus-a-copy\n",
      "  raw['DomAge'].iloc[k] += 1\n",
      "c:\\Repositories\\PeatlandForest_RF\\motti_tools.py:59: FutureWarning: iteritems is deprecated and will be removed in a future version. Use .items instead.\n",
      "  for colname, col in df.iteritems():\n"
     ]
    },
    {
     "name": "stdout",
     "output_type": "stream",
     "text": [
      "restoring to open!\n"
     ]
    },
    {
     "name": "stderr",
     "output_type": "stream",
     "text": [
      "c:\\Repositories\\PeatlandForest_RF\\motti_tools.py:294: SettingWithCopyWarning: \n",
      "A value is trying to be set on a copy of a slice from a DataFrame\n",
      "\n",
      "See the caveats in the documentation: https://pandas.pydata.org/pandas-docs/stable/user_guide/indexing.html#returning-a-view-versus-a-copy\n",
      "  raw['year'].iloc[k] += 1\n",
      "c:\\Repositories\\PeatlandForest_RF\\motti_tools.py:295: SettingWithCopyWarning: \n",
      "A value is trying to be set on a copy of a slice from a DataFrame\n",
      "\n",
      "See the caveats in the documentation: https://pandas.pydata.org/pandas-docs/stable/user_guide/indexing.html#returning-a-view-versus-a-copy\n",
      "  raw['DomAge'].iloc[k] += 1\n",
      "c:\\Repositories\\PeatlandForest_RF\\motti_tools.py:59: FutureWarning: iteritems is deprecated and will be removed in a future version. Use .items instead.\n",
      "  for colname, col in df.iteritems():\n"
     ]
    },
    {
     "name": "stdout",
     "output_type": "stream",
     "text": [
      "restoring to open!\n"
     ]
    },
    {
     "name": "stderr",
     "output_type": "stream",
     "text": [
      "c:\\Repositories\\PeatlandForest_RF\\motti_tools.py:110: SettingWithCopyWarning: \n",
      "A value is trying to be set on a copy of a slice from a DataFrame\n",
      "\n",
      "See the caveats in the documentation: https://pandas.pydata.org/pandas-docs/stable/user_guide/indexing.html#returning-a-view-versus-a-copy\n",
      "  raw['vuosi'].iloc[k] += 1\n",
      "c:\\Repositories\\PeatlandForest_RF\\motti_tools.py:111: SettingWithCopyWarning: \n",
      "A value is trying to be set on a copy of a slice from a DataFrame\n",
      "\n",
      "See the caveats in the documentation: https://pandas.pydata.org/pandas-docs/stable/user_guide/indexing.html#returning-a-view-versus-a-copy\n",
      "  raw['Ika'].iloc[k] += 1\n",
      "c:\\Repositories\\PeatlandForest_RF\\motti_tools.py:59: FutureWarning: iteritems is deprecated and will be removed in a future version. Use .items instead.\n",
      "  for colname, col in df.iteritems():\n",
      "c:\\Repositories\\PeatlandForest_RF\\motti_tools.py:149: FutureWarning: Passing a dict as an indexer is deprecated and will raise in a future version. Use a list instead.\n",
      "  dat = dat[usecols]\n"
     ]
    },
    {
     "name": "stdout",
     "output_type": "stream",
     "text": [
      "restoring to open!\n"
     ]
    },
    {
     "name": "stderr",
     "output_type": "stream",
     "text": [
      "c:\\Users\\03081268\\AppData\\Local\\miniconda3\\envs\\apes\\lib\\site-packages\\openpyxl\\workbook\\child.py:99: UserWarning: Title is more than 31 characters. Some applications may not be able to read the file\n",
      "  warnings.warn(\"Title is more than 31 characters. Some applications may not be able to read the file\")\n",
      "c:\\Repositories\\PeatlandForest_RF\\motti_tools.py:294: SettingWithCopyWarning: \n",
      "A value is trying to be set on a copy of a slice from a DataFrame\n",
      "\n",
      "See the caveats in the documentation: https://pandas.pydata.org/pandas-docs/stable/user_guide/indexing.html#returning-a-view-versus-a-copy\n",
      "  raw['year'].iloc[k] += 1\n",
      "c:\\Repositories\\PeatlandForest_RF\\motti_tools.py:295: SettingWithCopyWarning: \n",
      "A value is trying to be set on a copy of a slice from a DataFrame\n",
      "\n",
      "See the caveats in the documentation: https://pandas.pydata.org/pandas-docs/stable/user_guide/indexing.html#returning-a-view-versus-a-copy\n",
      "  raw['DomAge'].iloc[k] += 1\n",
      "c:\\Repositories\\PeatlandForest_RF\\motti_tools.py:59: FutureWarning: iteritems is deprecated and will be removed in a future version. Use .items instead.\n",
      "  for colname, col in df.iteritems():\n"
     ]
    },
    {
     "name": "stdout",
     "output_type": "stream",
     "text": [
      "restoring to open!\n"
     ]
    },
    {
     "name": "stderr",
     "output_type": "stream",
     "text": [
      "c:\\Repositories\\PeatlandForest_RF\\motti_tools.py:294: SettingWithCopyWarning: \n",
      "A value is trying to be set on a copy of a slice from a DataFrame\n",
      "\n",
      "See the caveats in the documentation: https://pandas.pydata.org/pandas-docs/stable/user_guide/indexing.html#returning-a-view-versus-a-copy\n",
      "  raw['year'].iloc[k] += 1\n",
      "c:\\Repositories\\PeatlandForest_RF\\motti_tools.py:295: SettingWithCopyWarning: \n",
      "A value is trying to be set on a copy of a slice from a DataFrame\n",
      "\n",
      "See the caveats in the documentation: https://pandas.pydata.org/pandas-docs/stable/user_guide/indexing.html#returning-a-view-versus-a-copy\n",
      "  raw['DomAge'].iloc[k] += 1\n",
      "c:\\Repositories\\PeatlandForest_RF\\motti_tools.py:59: FutureWarning: iteritems is deprecated and will be removed in a future version. Use .items instead.\n",
      "  for colname, col in df.iteritems():\n"
     ]
    },
    {
     "name": "stdout",
     "output_type": "stream",
     "text": [
      "restoring to open!\n"
     ]
    },
    {
     "name": "stderr",
     "output_type": "stream",
     "text": [
      "c:\\Repositories\\PeatlandForest_RF\\motti_tools.py:294: SettingWithCopyWarning: \n",
      "A value is trying to be set on a copy of a slice from a DataFrame\n",
      "\n",
      "See the caveats in the documentation: https://pandas.pydata.org/pandas-docs/stable/user_guide/indexing.html#returning-a-view-versus-a-copy\n",
      "  raw['year'].iloc[k] += 1\n",
      "c:\\Repositories\\PeatlandForest_RF\\motti_tools.py:295: SettingWithCopyWarning: \n",
      "A value is trying to be set on a copy of a slice from a DataFrame\n",
      "\n",
      "See the caveats in the documentation: https://pandas.pydata.org/pandas-docs/stable/user_guide/indexing.html#returning-a-view-versus-a-copy\n",
      "  raw['DomAge'].iloc[k] += 1\n",
      "c:\\Repositories\\PeatlandForest_RF\\motti_tools.py:59: FutureWarning: iteritems is deprecated and will be removed in a future version. Use .items instead.\n",
      "  for colname, col in df.iteritems():\n"
     ]
    },
    {
     "name": "stdout",
     "output_type": "stream",
     "text": [
      "restoring to open!\n"
     ]
    },
    {
     "name": "stderr",
     "output_type": "stream",
     "text": [
      "c:\\Repositories\\PeatlandForest_RF\\motti_tools.py:294: SettingWithCopyWarning: \n",
      "A value is trying to be set on a copy of a slice from a DataFrame\n",
      "\n",
      "See the caveats in the documentation: https://pandas.pydata.org/pandas-docs/stable/user_guide/indexing.html#returning-a-view-versus-a-copy\n",
      "  raw['year'].iloc[k] += 1\n",
      "c:\\Repositories\\PeatlandForest_RF\\motti_tools.py:295: SettingWithCopyWarning: \n",
      "A value is trying to be set on a copy of a slice from a DataFrame\n",
      "\n",
      "See the caveats in the documentation: https://pandas.pydata.org/pandas-docs/stable/user_guide/indexing.html#returning-a-view-versus-a-copy\n",
      "  raw['DomAge'].iloc[k] += 1\n",
      "c:\\Repositories\\PeatlandForest_RF\\motti_tools.py:59: FutureWarning: iteritems is deprecated and will be removed in a future version. Use .items instead.\n",
      "  for colname, col in df.iteritems():\n"
     ]
    },
    {
     "name": "stdout",
     "output_type": "stream",
     "text": [
      "restoring to open!\n"
     ]
    },
    {
     "name": "stderr",
     "output_type": "stream",
     "text": [
      "c:\\Repositories\\PeatlandForest_RF\\motti_tools.py:110: SettingWithCopyWarning: \n",
      "A value is trying to be set on a copy of a slice from a DataFrame\n",
      "\n",
      "See the caveats in the documentation: https://pandas.pydata.org/pandas-docs/stable/user_guide/indexing.html#returning-a-view-versus-a-copy\n",
      "  raw['vuosi'].iloc[k] += 1\n",
      "c:\\Repositories\\PeatlandForest_RF\\motti_tools.py:111: SettingWithCopyWarning: \n",
      "A value is trying to be set on a copy of a slice from a DataFrame\n",
      "\n",
      "See the caveats in the documentation: https://pandas.pydata.org/pandas-docs/stable/user_guide/indexing.html#returning-a-view-versus-a-copy\n",
      "  raw['Ika'].iloc[k] += 1\n",
      "c:\\Repositories\\PeatlandForest_RF\\motti_tools.py:59: FutureWarning: iteritems is deprecated and will be removed in a future version. Use .items instead.\n",
      "  for colname, col in df.iteritems():\n",
      "c:\\Repositories\\PeatlandForest_RF\\motti_tools.py:149: FutureWarning: Passing a dict as an indexer is deprecated and will raise in a future version. Use a list instead.\n",
      "  dat = dat[usecols]\n"
     ]
    },
    {
     "name": "stdout",
     "output_type": "stream",
     "text": [
      "restoring to open!\n"
     ]
    },
    {
     "name": "stderr",
     "output_type": "stream",
     "text": [
      "c:\\Users\\03081268\\AppData\\Local\\miniconda3\\envs\\apes\\lib\\site-packages\\openpyxl\\workbook\\child.py:99: UserWarning: Title is more than 31 characters. Some applications may not be able to read the file\n",
      "  warnings.warn(\"Title is more than 31 characters. Some applications may not be able to read the file\")\n"
     ]
    }
   ],
   "source": [
    "# simulations in 'folder'\n",
    "sims = [name for name in os.listdir(folder) if os.path.isdir(os.path.join(folder, name))]\n",
    "M = len(sims)\n",
    "for k in range(1,M):\n",
    "    s = sims[k]\n",
    "\n",
    "    # -- coding for computing soil fluxes in forestry and restoration\n",
    "    if any(stype in s for stype in ['Rhtkg', 'Mtkg']):\n",
    "        ftype = 'FNR' # nutrient rich\n",
    "        rtype = ['RME', 'ROL', 'RSM']\n",
    "    else: \n",
    "        ftype = 'FNP' # nutrient poor\n",
    "        rtype = ['ROL', 'ROM', 'RPM']\n",
    "    \n",
    "    # -- read Motti-results. Two versions: LukeMotti and OptiMotti. Uses functions from module motti_tools\n",
    "    path = os.path.join(folder, s)\n",
    "    if 'suositusten' in s:\n",
    "        ffile = [f for f in os.listdir(path)\n",
    "                  if os.path.isfile(os.path.join(path, f)) and 'suositusten' in f][0]\n",
    "        \n",
    "        ffile = os.path.join(path, ffile)\n",
    "        data = massage_LukeMotti(ffile)\n",
    "    \n",
    "    else:\n",
    "        ffile = os.path.join(path, 'Development_opt.csv')\n",
    "        if 'CCF' in ffile:\n",
    "            data = massage_OptiMotti(ffile, CCF=True)\n",
    "        else:\n",
    "            data = massage_OptiMotti(ffile, CCF=False)\n",
    "    \n",
    "    # --- simulate continued forestry scenarios\n",
    "\n",
    "    # forest management continues\n",
    "    f0 = compute_stocks_fluxes(data.copy(), ftype=ftype, fyear=2025)\n",
    "    rf0 = compute_RFs(x=f0)\n",
    "    \n",
    "    ## water management scenario here! Will lead to smaller soil CO2 emissions\n",
    "    fw = compute_stocks_fluxes(data.copy(), ftype=ftype, fyear=2025, wtd_para={'a': -30.0, 'b': 10.0, 'c': 0.98698})\n",
    "    rfw = compute_RFs(x=fw)\n",
    "\n",
    "    # --- simulate restoration scenarios\n",
    "    f1 = compute_stocks_fluxes(data.copy(), ftype=rtype[0], fyear=2025) \n",
    "    rf1 = compute_RFs(x=f1)\n",
    "    f2 = compute_stocks_fluxes(data.copy(), ftype=rtype[1], fyear=2025)\n",
    "    rf2 = compute_RFs(x=f2)\n",
    "    f3 = compute_stocks_fluxes(data.copy(), ftype=rtype[2], fyear=2025)\n",
    "    rf3 = compute_RFs(x=f3)\n",
    "    \n",
    "    # --- save results to Excel file named based on Motti-chain used as input data\n",
    "     \n",
    "    outfile = os.path.join(folder)\n",
    "    outfile = os.path.join(outfile, s + '.xlsx')\n",
    "\n",
    "    \n",
    "    with pd.ExcelWriter(outfile, engine='openpyxl') as writer:\n",
    "        #forestry\n",
    "        tmp = pd.concat([f0, rf0], axis=1)\n",
    "        tmp.to_excel(writer, sheet_name=ftype, index=False)\n",
    "        # forestry with reduced drainage\n",
    "        tmp = pd.concat([fw, rfw], axis=1)\n",
    "        tmp.to_excel(writer, sheet_name=ftype + '_WT_rise', index=False)\n",
    "    \n",
    "        # restoration cases\n",
    "        tmp = pd.concat([f1, rf1], axis=1)\n",
    "        tmp.to_excel(writer, sheet_name='Rest_' + rtype[0], index=False)\n",
    "        tmp = pd.concat([f2, rf2], axis=1)\n",
    "        tmp.to_excel(writer, sheet_name='Rest_' + rtype[1], index=False)\n",
    "        tmp = pd.concat([f3, rf3], axis=1)\n",
    "        tmp.to_excel(writer, sheet_name='Rest_' + rtype[2], index=False)\n",
    "        \n",
    "        # -- save used Motti-data\n",
    "        data.to_excel(writer, sheet_name=s.strip('.'), index=False)\n",
    "\n",
    "# for c in ['C_tree', 'C_resid', 'C_WP_short', 'C_WP_long', 'C_soil', 'F_tree', 'F_resid', 'F_soil', 'F_WP_short', 'F_WP_long', 'F_CH4', 'F_N2O']:\n",
    "#     plt.figure()\n",
    "#     plt.plot(f0[c], 'r.-', label=ftype)\n",
    "#     plt.plot(f1[c], 'g.-', label=rtype[0])\n",
    "#     plt.plot(f2[c], 'b.-', label=rtype[1])\n",
    "#     plt.plot(f3[c], 'k.-', label=rtype[2])   \n",
    "#     plt.legend()\n",
    "#     plt.title(c)"
   ]
  },
  {
   "cell_type": "code",
   "execution_count": 4,
   "id": "51df7d44",
   "metadata": {},
   "outputs": [
    {
     "data": {
      "text/plain": [
       "5"
      ]
     },
     "execution_count": 4,
     "metadata": {},
     "output_type": "execute_result"
    }
   ],
   "source": [
    "k"
   ]
  },
  {
   "cell_type": "markdown",
   "id": "cddef8b1",
   "metadata": {},
   "source": [
    "### How to implement reduced drainage?"
   ]
  },
  {
   "cell_type": "code",
   "execution_count": null,
   "id": "1f050c23",
   "metadata": {},
   "outputs": [
    {
     "data": {
      "text/plain": [
       "Text(0.5, 0, 'Vol (m3ha-1)')"
      ]
     },
     "execution_count": 21,
     "metadata": {},
     "output_type": "execute_result"
    },
    {
     "data": {
      "image/png": "[encoded data removed]",
      "text/plain": [
       "<Figure size 1000x600 with 2 Axes>"
      ]
     },
     "metadata": {},
     "output_type": "display_data"
    }
   ],
   "source": [
    "#from main import soilCO2\n",
    "\n",
    "def soil_C_balance(wtd, ftype='FNR'):\n",
    "    if ftype == 'FNR':\n",
    "        f = -115.0  -12.0 * wtd\n",
    "    elif ftype == 'FNP':\n",
    "        f = -259.0 - 6.0 * wtd\n",
    "    f = f * (12/44) # gCO2 to g C\n",
    "\n",
    "    return f\n",
    "\n",
    "# WT relations\n",
    "\n",
    "x = np.linspace(0, 500, 50)\n",
    "\n",
    "# current vol - WT relationship\n",
    "a = -50.56; b = 29.356; c = 0.98698\n",
    "wtd = a + b * np.power(c, x)\n",
    "f = soil_C_balance(wtd, ftype='FNR')\n",
    "\n",
    "# hypothetical with less intensive drainage\n",
    "\n",
    "# Hökkä, H., Palviainen, M., Stenberg, L., Heikkinen, J., & Laurén, A. (2024). \n",
    "# Changing role of water table and weather conditions in diameter growth of Scots pine in drained peatlands. \n",
    "# Canadian Journal of Forest Research, 55, 1-12.\n",
    "\n",
    "a = -30.0; b = 10.0; c = 0.98698\n",
    "wtd1 = a + b * np.power(c, x)\n",
    "f1 = soil_C_balance(wtd1, ftype='FNR')\n",
    "\n",
    "fig, ax = plt.subplots(1,2, figsize=(10, 6))\n",
    "\n",
    "ax[0].plot(x, wtd, '-', label='current')\n",
    "ax[0].plot(x, wtd1, '-', label='reduced drainage')\n",
    "ax[0].set_ylabel('WT (cm)')\n",
    "ax[0].set_xlabel('Vol (m3ha-1)')\n",
    "ax[0].legend()\n",
    "\n",
    "ax[1].plot([0,max(x)], [0, 0], 'k--', alpha=0.5)\n",
    "ax[1].plot(x, f, '-', label='current')\n",
    "ax[1].plot(x, f1, '-', label='reduced drainage')\n",
    "ax[1].set_ylabel('soil C balance (g C m-2 a-1)')\n",
    "ax[1].set_xlabel('Vol (m3ha-1)')\n",
    "\n"
   ]
  }
 ],
 "metadata": {
  "kernelspec": {
   "display_name": "Python 3",
   "language": "python",
   "name": "python3"
  },
  "language_info": {
   "codemirror_mode": {
    "name": "ipython",
    "version": 3
   },
   "file_extension": ".py",
   "mimetype": "text/x-python",
   "name": "python",
   "nbconvert_exporter": "python",
   "pygments_lexer": "ipython3",
   "version": "3.8.16"
  }
 },
 "nbformat": 4,
 "nbformat_minor": 5
}
